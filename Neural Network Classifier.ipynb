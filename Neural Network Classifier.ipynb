{
 "cells": [
  {
   "cell_type": "markdown",
   "metadata": {},
   "source": [
    "# 9.3 Neural Network Classifiers\n",
    "Name: Joi Chu-Ketterer <br>Date: 11/3/19<br>Course: DSC550 - Data Mining\n",
    "            \n",
    "      "
   ]
  },
  {
   "cell_type": "code",
   "execution_count": 1,
   "metadata": {},
   "outputs": [],
   "source": [
    "import json_lines\n",
    "import pandas as pd\n",
    "import numpy as np"
   ]
  },
  {
   "cell_type": "markdown",
   "metadata": {},
   "source": [
    "__Data Understanding__\n",
    "\n",
    "In this section, the data is imported and then a histogram is created to understand the distribution of comments. Additionally, since the file size is so large and model training took a lot of time, a separate dataframe was created with a random sample of 20,000 entries from the original dataset. "
   ]
  },
  {
   "cell_type": "code",
   "execution_count": 2,
   "metadata": {},
   "outputs": [],
   "source": [
    "df = pd.read_json('categorized.jsonl', lines=True)"
   ]
  },
  {
   "cell_type": "code",
   "execution_count": 3,
   "metadata": {},
   "outputs": [
    {
     "data": {
      "text/html": [
       "<div>\n",
       "<style scoped>\n",
       "    .dataframe tbody tr th:only-of-type {\n",
       "        vertical-align: middle;\n",
       "    }\n",
       "\n",
       "    .dataframe tbody tr th {\n",
       "        vertical-align: top;\n",
       "    }\n",
       "\n",
       "    .dataframe thead th {\n",
       "        text-align: right;\n",
       "    }\n",
       "</style>\n",
       "<table border=\"1\" class=\"dataframe\">\n",
       "  <thead>\n",
       "    <tr style=\"text-align: right;\">\n",
       "      <th></th>\n",
       "      <th>cat</th>\n",
       "      <th>txt</th>\n",
       "    </tr>\n",
       "  </thead>\n",
       "  <tbody>\n",
       "    <tr>\n",
       "      <th>0</th>\n",
       "      <td>sports</td>\n",
       "      <td>Barely better than Gabbert? He was significant...</td>\n",
       "    </tr>\n",
       "    <tr>\n",
       "      <th>1</th>\n",
       "      <td>sports</td>\n",
       "      <td>Fuck the ducks and the Angels! But welcome to ...</td>\n",
       "    </tr>\n",
       "    <tr>\n",
       "      <th>2</th>\n",
       "      <td>sports</td>\n",
       "      <td>Should have drafted more WRs.\\n\\n- Matt Millen...</td>\n",
       "    </tr>\n",
       "    <tr>\n",
       "      <th>3</th>\n",
       "      <td>sports</td>\n",
       "      <td>[Done](https://i.imgur.com/2YZ90pm.jpg)</td>\n",
       "    </tr>\n",
       "    <tr>\n",
       "      <th>4</th>\n",
       "      <td>sports</td>\n",
       "      <td>No!! NOO!!!!!</td>\n",
       "    </tr>\n",
       "  </tbody>\n",
       "</table>\n",
       "</div>"
      ],
      "text/plain": [
       "      cat                                                txt\n",
       "0  sports  Barely better than Gabbert? He was significant...\n",
       "1  sports  Fuck the ducks and the Angels! But welcome to ...\n",
       "2  sports  Should have drafted more WRs.\\n\\n- Matt Millen...\n",
       "3  sports            [Done](https://i.imgur.com/2YZ90pm.jpg)\n",
       "4  sports                                      No!! NOO!!!!!"
      ]
     },
     "execution_count": 3,
     "metadata": {},
     "output_type": "execute_result"
    }
   ],
   "source": [
    "df.head(5)"
   ]
  },
  {
   "cell_type": "code",
   "execution_count": 5,
   "metadata": {},
   "outputs": [
    {
     "data": {
      "image/png": "[encoded data removed]",
      "text/plain": [
       "<Figure size 576x432 with 1 Axes>"
      ]
     },
     "metadata": {
      "needs_background": "light"
     },
     "output_type": "display_data"
    }
   ],
   "source": [
    "import matplotlib.pyplot as plt\n",
    "\n",
    "fig, ax = plt.subplots(figsize=(8,6))\n",
    "labels = df['cat']\n",
    "df.groupby('cat').txt.count().plot.bar(ylim=0)\n",
    "plt.xticks(rotation=45)\n",
    "ax.set_xlabel('Category')\n",
    "ax.set_ylabel('Count')\n",
    "ax.set_title('Distribution of Comment Count per Category')\n",
    "ax.spines['right'].set_visible(False)\n",
    "ax.spines['top'].set_visible(False)\n",
    "\n",
    "plt.show()"
   ]
  },
  {
   "cell_type": "code",
   "execution_count": 31,
   "metadata": {},
   "outputs": [
    {
     "data": {
      "text/html": [
       "<div>\n",
       "<style scoped>\n",
       "    .dataframe tbody tr th:only-of-type {\n",
       "        vertical-align: middle;\n",
       "    }\n",
       "\n",
       "    .dataframe tbody tr th {\n",
       "        vertical-align: top;\n",
       "    }\n",
       "\n",
       "    .dataframe thead th {\n",
       "        text-align: right;\n",
       "    }\n",
       "</style>\n",
       "<table border=\"1\" class=\"dataframe\">\n",
       "  <thead>\n",
       "    <tr style=\"text-align: right;\">\n",
       "      <th></th>\n",
       "      <th>cat</th>\n",
       "      <th>txt</th>\n",
       "    </tr>\n",
       "  </thead>\n",
       "  <tbody>\n",
       "    <tr>\n",
       "      <th>1058120</th>\n",
       "      <td>video_games</td>\n",
       "      <td>well gp did this before he even started buying...</td>\n",
       "    </tr>\n",
       "    <tr>\n",
       "      <th>472812</th>\n",
       "      <td>video_games</td>\n",
       "      <td>LOLOLOL!!!!!....Me too...</td>\n",
       "    </tr>\n",
       "    <tr>\n",
       "      <th>322627</th>\n",
       "      <td>video_games</td>\n",
       "      <td>Genesis?</td>\n",
       "    </tr>\n",
       "    <tr>\n",
       "      <th>249043</th>\n",
       "      <td>sports</td>\n",
       "      <td>This is the closest u can get</td>\n",
       "    </tr>\n",
       "    <tr>\n",
       "      <th>1503309</th>\n",
       "      <td>news</td>\n",
       "      <td>Hey it's me, your service man</td>\n",
       "    </tr>\n",
       "  </tbody>\n",
       "</table>\n",
       "</div>"
      ],
      "text/plain": [
       "                 cat                                                txt\n",
       "1058120  video_games  well gp did this before he even started buying...\n",
       "472812   video_games                          LOLOLOL!!!!!....Me too...\n",
       "322627   video_games                                           Genesis?\n",
       "249043        sports                      This is the closest u can get\n",
       "1503309         news                      Hey it's me, your service man"
      ]
     },
     "execution_count": 31,
     "metadata": {},
     "output_type": "execute_result"
    }
   ],
   "source": [
    "df_new = df.sample(n = 20000)\n",
    "\n",
    "df_new.head(5)"
   ]
  },
  {
   "cell_type": "markdown",
   "metadata": {},
   "source": [
    "__1. Neural Network Classifier with Scikit__\n",
    "\n",
    "Using the multi-label classifier dataset from earlier exercises (categorized-comments.jsonl in the reddit folder), fit a neural network classifier using scikit-learn. Use the code found in chapter 12 of the Applied Text Analysis with Python book as a guideline. Report the accuracy, precision, recall, F1-score, and confusion matrix."
   ]
  },
  {
   "cell_type": "code",
   "execution_count": 16,
   "metadata": {},
   "outputs": [],
   "source": [
    "from sklearn.model_selection import train_test_split\n",
    "from sklearn.metrics import accuracy_score, f1_score, precision_score, recall_score, confusion_matrix\n",
    "from sklearn.neural_network import MLPClassifier\n",
    "from sklearn.feature_extraction.text import TfidfVectorizer\n",
    "from nltk.tokenize import RegexpTokenizer"
   ]
  },
  {
   "cell_type": "code",
   "execution_count": 32,
   "metadata": {},
   "outputs": [],
   "source": [
    "# to clean and reduce the number of phrases the model will need to analyze, \n",
    "# the comments will be stripped of stop words and tokenized \n",
    "\n",
    "token = RegexpTokenizer(r'[a-zA-Z0-9]+')\n",
    "tf = TfidfVectorizer(lowercase=True,\n",
    "                     stop_words='english',\n",
    "                     ngram_range = (1,1),\n",
    "                     tokenizer = token.tokenize)\n",
    "text_tf= tf.fit_transform(df_new['txt'])"
   ]
  },
  {
   "cell_type": "code",
   "execution_count": 42,
   "metadata": {},
   "outputs": [],
   "source": [
    "# as with any model, a training and testing set will be created\n",
    "\n",
    "X_train, X_test, y_train, y_test = train_test_split(\n",
    "    text_tf, df_new['cat'], test_size=0.3, random_state=1)\n",
    "\n",
    "# this istantiates the model itself\n",
    "model_mlp = MLPClassifier(hidden_layer_sizes = [200,50], verbose = False).fit(X_train, y_train)"
   ]
  },
  {
   "cell_type": "code",
   "execution_count": 43,
   "metadata": {},
   "outputs": [],
   "source": [
    "# this calculates the predicted values \n",
    "\n",
    "predicted= model_mlp.predict(X_test)"
   ]
  },
  {
   "cell_type": "code",
   "execution_count": 44,
   "metadata": {},
   "outputs": [
    {
     "name": "stdout",
     "output_type": "stream",
     "text": [
      "Accuracy:  0.5366666666666666\n",
      "Precision:  0.6302962072069471\n",
      "Recall:  0.4210223421591532\n",
      "F1:  0.4168595936162209\n"
     ]
    }
   ],
   "source": [
    "accuracy = accuracy_score(y_test, predicted)\n",
    "f1 = f1_score(y_test, predicted, average = None)\n",
    "precision = precision_score(y_test, predicted, average = None)\n",
    "recall = recall_score(y_test, predicted, average = None)\n",
    "\n",
    "print('Accuracy: ', accuracy)\n",
    "print('Precision: ', precision.mean())\n",
    "print('Recall: ', recall.mean())\n",
    "print('F1: ', f1.mean())"
   ]
  },
  {
   "cell_type": "code",
   "execution_count": 231,
   "metadata": {},
   "outputs": [
    {
     "data": {
      "text/plain": [
       "array([[21,  0,  9, 18],\n",
       "       [ 7,  1,  7,  6],\n",
       "       [14,  0, 60, 30],\n",
       "       [11,  0, 37, 79]])"
      ]
     },
     "execution_count": 231,
     "metadata": {},
     "output_type": "execute_result"
    }
   ],
   "source": [
    "matrix_mlp = confusion_matrix(y_test, predicted)\n",
    "matrix_mlp"
   ]
  },
  {
   "cell_type": "code",
   "execution_count": 235,
   "metadata": {},
   "outputs": [
    {
     "data": {
      "text/plain": [
       "''"
      ]
     },
     "execution_count": 235,
     "metadata": {},
     "output_type": "execute_result"
    },
    {
     "data": {
      "image/png": "[encoded data removed]",
      "text/plain": [
       "<Figure size 432x288 with 1 Axes>"
      ]
     },
     "metadata": {
      "needs_background": "light"
     },
     "output_type": "display_data"
    }
   ],
   "source": [
    "import seaborn as sns\n",
    "\n",
    "map_label = list(label.inverse_transform([0, 1, 2, 3]))\n",
    "\n",
    "\n",
    "matrix_mlp_cm = pd.DataFrame(matrix_mlp)\n",
    "\n",
    "\n",
    "ax = sns.heatmap(matrix_mlp_cm, \n",
    "           annot=True,\n",
    "            vmin=-1, vmax=1, center=0,\n",
    "           cbar=False, \n",
    "           fmt=\"d\",\n",
    "           cmap=sns.cubehelix_palette(n_colors = 1, start = 0.6, dark =0, light = 0.95),\n",
    "            square=True,\n",
    "            xticklabels = map_label,\n",
    "            yticklabels = map_label )\n",
    "\n",
    "\n",
    "ax.set_xticklabels(\n",
    "    ax.get_xticklabels(),\n",
    "    rotation=45,\n",
    "    horizontalalignment='right'\n",
    ")\n",
    "\n",
    "plt.title('Keras Classifier Correlation Plot', fontsize = 20) # title with fontsize 20\n",
    "plt.xlabel('Predicted', fontsize = 15) # x-axis label with fontsize 15\n",
    "plt.ylabel('Actual', fontsize = 15) # y-axis label with fontsize 15\n",
    ";"
   ]
  },
  {
   "cell_type": "markdown",
   "metadata": {},
   "source": [
    "__2. Neural Network Classifier with Keras__\n",
    "\n",
    "Using the multi-label classifier dataset from earlier exercises (categorized-comments.jsonl in the reddit folder), fit a neural network classifier using Keras. Use the code found in chapter 12 of the Applied Text Analysis with Python book as a guideline. Report the accuracy, precision, recall, F1-score, and confusion matrix."
   ]
  },
  {
   "cell_type": "code",
   "execution_count": 49,
   "metadata": {},
   "outputs": [
    {
     "name": "stderr",
     "output_type": "stream",
     "text": [
      "Using TensorFlow backend.\n"
     ]
    }
   ],
   "source": [
    "from keras.layers import Dense\n",
    "from keras.models import Sequential\n",
    "from keras import metrics\n",
    "from keras import layers"
   ]
  },
  {
   "cell_type": "code",
   "execution_count": 152,
   "metadata": {},
   "outputs": [],
   "source": [
    "# this creates the neural network layer by layer \n",
    "\n",
    "input_dim = X_train.shape[1]\n",
    "\n",
    "def baseline():\n",
    "    model_keras = Sequential()\n",
    "    model_keras.add(layers.Dense(10, input_dim = input_dim, activation = 'relu'))\n",
    "    model_keras.add(layers.Dense(5, activation= 'relu'))\n",
    "    model_keras.add(layers.Dense(4, activation = 'softmax'))\n",
    "\n",
    "    model_keras.compile(loss = 'sparse_categorical_crossentropy',\n",
    "                 optimizer = 'adam', \n",
    "                 metrics = [\"accuracy\"])\n",
    "    \n",
    "    return model_keras"
   ]
  },
  {
   "cell_type": "code",
   "execution_count": 124,
   "metadata": {},
   "outputs": [],
   "source": [
    "# without encoding the category column, the model was running into issues\n",
    "# this is similar to the factor method in R\n",
    "\n",
    "from sklearn.preprocessing import LabelEncoder\n",
    "\n",
    "label = LabelEncoder()\n",
    "df_new['cat2'] = label.fit_transform(df_new['cat'])"
   ]
  },
  {
   "cell_type": "code",
   "execution_count": 74,
   "metadata": {},
   "outputs": [],
   "source": [
    "X_train2, X_test2, y_train2, y_test2 = train_test_split(\n",
    "    text_tf, df_new['cat2'], test_size=0.3, random_state=1)"
   ]
  },
  {
   "cell_type": "code",
   "execution_count": 153,
   "metadata": {},
   "outputs": [],
   "source": [
    "from keras.wrappers.scikit_learn import KerasClassifier\n",
    "from sklearn.model_selection import cross_val_score\n",
    "\n",
    "# this instantiates the neural model\n",
    "\n",
    "estimator = KerasClassifier(build_fn = baseline, \n",
    "                            epochs=100, \n",
    "                            batch_size=10, \n",
    "                            verbose=False)"
   ]
  },
  {
   "cell_type": "code",
   "execution_count": 154,
   "metadata": {},
   "outputs": [
    {
     "name": "stdout",
     "output_type": "stream",
     "text": [
      "Epoch 1/1\n",
      "1000/1000 [==============================] - 0s 492us/step - loss: 0.1903 - accuracy: 0.9260\n"
     ]
    },
    {
     "data": {
      "text/plain": [
       "<keras.callbacks.callbacks.History at 0x1217eb630>"
      ]
     },
     "execution_count": 154,
     "metadata": {},
     "output_type": "execute_result"
    }
   ],
   "source": [
    "results = cross_val_score(estimator, text_tf, df_new['cat2'], cv = 2, error_score='raise')\n",
    "model_keras.fit(text_tf, df_new['cat2'])"
   ]
  },
  {
   "cell_type": "code",
   "execution_count": 156,
   "metadata": {},
   "outputs": [
    {
     "data": {
      "text/plain": [
       "array([[9.5036787e-01, 1.6499763e-04, 6.3551804e-03, 4.3112110e-02],\n",
       "       [3.8336267e-04, 1.9466106e-04, 9.5441169e-04, 9.9846750e-01],\n",
       "       [5.6176312e-05, 4.3804430e-05, 7.5005999e-05, 9.9982506e-01],\n",
       "       ...,\n",
       "       [5.0809127e-01, 2.3279260e-01, 1.4794721e-01, 1.1116898e-01],\n",
       "       [1.4209483e-02, 6.2989532e-03, 7.0047326e-02, 9.0944421e-01],\n",
       "       [9.5689440e-01, 5.3029675e-03, 1.8903334e-02, 1.8899344e-02]],\n",
       "      dtype=float32)"
      ]
     },
     "execution_count": 156,
     "metadata": {},
     "output_type": "execute_result"
    }
   ],
   "source": [
    "predicted_keras = model_keras.predict(X_test2)\n",
    "\n",
    "predicted_keras"
   ]
  },
  {
   "cell_type": "code",
   "execution_count": 157,
   "metadata": {},
   "outputs": [],
   "source": [
    "# predict classes for test set\n",
    "\n",
    "class_predict = model_keras.predict_classes(X_test2)"
   ]
  },
  {
   "cell_type": "code",
   "execution_count": 164,
   "metadata": {},
   "outputs": [
    {
     "name": "stdout",
     "output_type": "stream",
     "text": [
      "Accuracy: 0.933333\n",
      "Precision: 0.940631\n",
      "Recall: 0.863418\n",
      "F1 score: 0.886781\n"
     ]
    }
   ],
   "source": [
    "# accuracy: (tp + tn) / (p + n)\n",
    "accuracy = accuracy_score(y_test2, class_predict)\n",
    "print('Accuracy: %f' % accuracy)\n",
    "# precision tp / (tp + fp)\n",
    "precision = precision_score(y_test2, class_predict, average = None)\n",
    "print('Precision: %f' % precision.mean())\n",
    "# recall: tp / (tp + fn)\n",
    "recall = recall_score(y_test2, class_predict, average = None)\n",
    "print('Recall: %f' % recall.mean())\n",
    "# f1: 2 tp / (2 tp + fp + fn)\n",
    "f1 = f1_score(y_test2, class_predict, average = None)\n",
    "print('F1 score: %f' % f1.mean())"
   ]
  },
  {
   "cell_type": "code",
   "execution_count": 173,
   "metadata": {},
   "outputs": [
    {
     "data": {
      "text/plain": [
       "array([[ 46,   0,   2,   0],\n",
       "       [  5,  12,   3,   1],\n",
       "       [  0,   0, 101,   3],\n",
       "       [  1,   0,   5, 121]])"
      ]
     },
     "execution_count": 173,
     "metadata": {},
     "output_type": "execute_result"
    }
   ],
   "source": [
    "matrix_keras = confusion_matrix(y_test2, class_predict)\n",
    "matrix_keras"
   ]
  },
  {
   "cell_type": "code",
   "execution_count": 229,
   "metadata": {},
   "outputs": [
    {
     "data": {
      "text/plain": [
       "''"
      ]
     },
     "execution_count": 229,
     "metadata": {},
     "output_type": "execute_result"
    },
    {
     "data": {
      "image/png": "[encoded data removed]",
      "text/plain": [
       "<Figure size 432x288 with 1 Axes>"
      ]
     },
     "metadata": {
      "needs_background": "light"
     },
     "output_type": "display_data"
    }
   ],
   "source": [
    "import seaborn as sns\n",
    "\n",
    "map_label = list(label.inverse_transform([0, 1, 2, 3]))\n",
    "\n",
    "\n",
    "matrix_keras_cm = pd.DataFrame(matrix_keras)\n",
    "\n",
    "\n",
    "ax = sns.heatmap(matrix_keras_cm, \n",
    "           annot=True,\n",
    "            vmin=-1, vmax=1, center=0,\n",
    "           cbar=False, \n",
    "           fmt=\"d\",\n",
    "           cmap=sns.cubehelix_palette(n_colors = 1, start = 0.6, dark =0, light = 0.95),\n",
    "            square=True,\n",
    "            xticklabels = map_label,\n",
    "            yticklabels = map_label)\n",
    "\n",
    "\n",
    "ax.set_xticklabels(\n",
    "    ax.get_xticklabels(),\n",
    "    rotation=45,\n",
    "    horizontalalignment='right'\n",
    ")\n",
    "\n",
    "plt.title('Keras Classifier Correlation Plot', fontsize = 20) # title with fontsize 20\n",
    "plt.xlabel('Predicted', fontsize = 15) # x-axis label with fontsize 15\n",
    "plt.ylabel('Actual', fontsize = 15) # y-axis label with fontsize 15\n",
    ";"
   ]
  },
  {
   "cell_type": "markdown",
   "metadata": {},
   "source": [
    "3. Classifying Images\n",
    "\n",
    "In chapter 20 of the Machine Learning with Python Cookbook, implement the code found in section 20.15 classify MSINT images using a convolutional neural network. Report the accuracy of your results."
   ]
  },
  {
   "cell_type": "code",
   "execution_count": 3,
   "metadata": {},
   "outputs": [
    {
     "name": "stderr",
     "output_type": "stream",
     "text": [
      "Using TensorFlow backend.\n"
     ]
    }
   ],
   "source": [
    "import numpy as np\n",
    "from keras.datasets import mnist \n",
    "from keras.models import Sequential\n",
    "from keras.layers import Dense, Dropout, Flatten\n",
    "from keras.layers.convolutional import Conv2D, MaxPooling2D\n",
    "from keras.utils import np_utils\n",
    "from keras import backend as K"
   ]
  },
  {
   "cell_type": "code",
   "execution_count": 9,
   "metadata": {},
   "outputs": [],
   "source": [
    "#the channels first setting means image data is represented in a 2D array\n",
    "#the first channel of that array represents the color channels\n",
    "#[channels][rows][cols] vs  [rows][cols][channels]\n",
    "#order will vary depending on the type of deep learning library you use \n",
    "\n",
    "K.set_image_data_format(\"channels_first\")"
   ]
  },
  {
   "cell_type": "code",
   "execution_count": 10,
   "metadata": {},
   "outputs": [],
   "source": [
    "np.random.seed(100)"
   ]
  },
  {
   "cell_type": "code",
   "execution_count": 11,
   "metadata": {},
   "outputs": [],
   "source": [
    "channels = 1\n",
    "height = 28\n",
    "width = 28"
   ]
  },
  {
   "cell_type": "code",
   "execution_count": 12,
   "metadata": {},
   "outputs": [],
   "source": [
    "#this downloads training and testing sets directly from the MNIST database\n",
    "\n",
    "(data_train, target_train), (data_test, target_test) = mnist.load_data()"
   ]
  },
  {
   "cell_type": "code",
   "execution_count": 13,
   "metadata": {},
   "outputs": [
    {
     "data": {
      "text/plain": [
       "((10000, 28, 28), (60000, 28, 28), (60000,), (10000,))"
      ]
     },
     "execution_count": 13,
     "metadata": {},
     "output_type": "execute_result"
    }
   ],
   "source": [
    "data_test.shape, data_train.shape, target_train.shape, target_test.shape"
   ]
  },
  {
   "cell_type": "code",
   "execution_count": 14,
   "metadata": {},
   "outputs": [],
   "source": [
    "#the reshapes the datasets to include the features \n",
    "#it takes multiple rows of data (each row being a feature) and makes it\n",
    "#one row and multiple columns\n",
    "\n",
    "data_test = data_test.reshape(data_test.shape[0], channels, height, width)\n",
    "data_train = data_train.reshape(data_train.shape[0], channels, height, width)"
   ]
  },
  {
   "cell_type": "code",
   "execution_count": 15,
   "metadata": {},
   "outputs": [
    {
     "data": {
      "text/plain": [
       "((10000, 1, 28, 28), (60000, 1, 28, 28))"
      ]
     },
     "execution_count": 15,
     "metadata": {},
     "output_type": "execute_result"
    }
   ],
   "source": [
    "data_test.shape, data_train.shape"
   ]
  },
  {
   "cell_type": "code",
   "execution_count": 16,
   "metadata": {},
   "outputs": [],
   "source": [
    "#here we are rescaling the pixels\n",
    "#this is useful for low contrast photos to improve their quality\n",
    "#pixel values range from 0 to 255\n",
    "\n",
    "features_train = data_train/255\n",
    "features_test = data_test/255"
   ]
  },
  {
   "cell_type": "code",
   "execution_count": 17,
   "metadata": {},
   "outputs": [],
   "source": [
    "#the encodes the categorical features\n",
    "#the number of classes' value is taken from the number of channels we have\n",
    "#we specified this to be 1 earlier\n",
    "#even earlier than that, we know that the first channel is our color\n",
    "#channel \n",
    "\n",
    "target_train = np_utils.to_categorical(target_train)\n",
    "target_test = np_utils.to_categorical(target_test)\n",
    "number_of_classes = target_test.shape[1]"
   ]
  },
  {
   "cell_type": "code",
   "execution_count": 18,
   "metadata": {},
   "outputs": [],
   "source": [
    "#this instantiates the neural network\n",
    "#the Sequential() API allows you to create models layer by layer for most problems\n",
    "#the sequential model API is a way to create deep learning models\n",
    "#the instance of the sequential class is created\n",
    "#model layers are created and added to that instance\n",
    "#not good for model with\n",
    "# - different input source\n",
    "# - multiple output destinations\n",
    "# - models that re-use layers\n",
    "\n",
    "\n",
    "network = Sequential()"
   ]
  },
  {
   "cell_type": "code",
   "execution_count": 19,
   "metadata": {},
   "outputs": [],
   "source": [
    "#adding a convolutional layer\n",
    "#a linear operation using a subset of weights of a dense layer\n",
    "#nearby inputs are connected with nearby outputs \n",
    "#the weights for the convolutions at each location are shares\n",
    "#since weights are shared, there are fewer weights than in a dense laye r\n",
    "#followed by non-linear activation function\n",
    "\n",
    "#create a convultion kernal that is convolved with the layer input to product tensor of outputs\n",
    "#if the first layer, need the input shape \n",
    "\n",
    "network.add(Conv2D(filters = 64,\n",
    "                  kernel_size = (5, 5),\n",
    "                  input_shape = (channels, width, height),\n",
    "                  activation = 'relu'))"
   ]
  },
  {
   "cell_type": "code",
   "execution_count": 20,
   "metadata": {},
   "outputs": [],
   "source": [
    "#add a maxpooling layer\n",
    "#this can be minpooling or maxpooling \n",
    "#with maxpooling, we are calculating the maximum (largest) value in each \n",
    "#patch of the feature map\n",
    "#basically find the most present feature in the patch rather than the average\n",
    "#finding the max is good for image classifcation\n",
    "#features tend to encode the spactial presence of some pattern over different tiles of a feature map \n",
    "#more informative to look at the max rather than average precense\n",
    "\n",
    "network.add(MaxPooling2D(pool_size = (2,2)))"
   ]
  },
  {
   "cell_type": "code",
   "execution_count": 21,
   "metadata": {},
   "outputs": [
    {
     "name": "stdout",
     "output_type": "stream",
     "text": [
      "WARNING:tensorflow:Large dropout rate: 0.8 (>0.5). In TensorFlow 2.x, dropout() uses dropout rate instead of keep_prob. Please ensure that this is intended.\n"
     ]
    }
   ],
   "source": [
    "#add the dropout layer\n",
    "#prevents the model from overfitting\n",
    "#regularized method that approximates training large number of NN\n",
    "#during training, random number of layer outputs are randomly ignored/dropped out\n",
    "#by setting this to 0.5, we saying 50% of the inputs will be set to zero\n",
    "\n",
    "network.add(Dropout(0.8))"
   ]
  },
  {
   "cell_type": "code",
   "execution_count": 22,
   "metadata": {},
   "outputs": [],
   "source": [
    "#adding a layer to flatten input\n",
    "#this reshapes the matrix into a single array (multiple rows into multiple columns)\n",
    "\n",
    "network.add(Flatten())"
   ]
  },
  {
   "cell_type": "code",
   "execution_count": 23,
   "metadata": {},
   "outputs": [],
   "source": [
    "#adding fully connected layer of 128 units with the ReLu activation function\n",
    "#linear operation\n",
    "#every input is connected to every output by a weight \n",
    "#followed by non-linear activation function \n",
    "#units = neurons\n",
    "\n",
    "\n",
    "network.add(Dense(128, activation = 'relu'))"
   ]
  },
  {
   "cell_type": "code",
   "execution_count": 25,
   "metadata": {},
   "outputs": [
    {
     "name": "stdout",
     "output_type": "stream",
     "text": [
      "WARNING:tensorflow:Large dropout rate: 0.8 (>0.5). In TensorFlow 2.x, dropout() uses dropout rate instead of keep_prob. Please ensure that this is intended.\n"
     ]
    }
   ],
   "source": [
    "#since we are building the network layer by layer, we will add\n",
    "#another drop out layer\n",
    "\n",
    "network.add(Dropout(0.8))"
   ]
  },
  {
   "cell_type": "code",
   "execution_count": 26,
   "metadata": {},
   "outputs": [],
   "source": [
    "#relu vs sigmoid \n",
    "#sigmoid is a special version of softmax that has 0 on negative infinity and 1 on positive inifity \n",
    "#relu is as element-wise non-linear function\n",
    "#non-competitive non-linear\n",
    "#good for inner layers \n",
    "#can lead to less sense solutions\n",
    "#reduces liklihood of vanishing gradients\n",
    "\n",
    "#the sigmoid\n",
    "#maps each input to a non-zero value\n",
    "#this means each input will have an output and be considered at each layer pass\n",
    "#even if it is not statistically significant\n",
    "#vs. relu that can give zero-value output and reduce the number neurons at each pass\n",
    "#this is lessen the dependence between features \n",
    "\n",
    "#softmax is soft, normalized, winner-take-all function\n",
    "#good for outlayers\n",
    "#gives probabilities of certain classes occruing\n",
    "#not that useful for hidden layers \n",
    "\n",
    "\n",
    "network.add(Dense(number_of_classes, \n",
    "                 activation = 'softmax'))"
   ]
  },
  {
   "cell_type": "code",
   "execution_count": 27,
   "metadata": {},
   "outputs": [],
   "source": [
    "#with all the layers created, we can compile the network\n",
    "\n",
    "network.compile(loss = 'categorical_crossentropy',\n",
    "               optimizer = 'rmsprop',\n",
    "               metrics = ['accuracy'])"
   ]
  },
  {
   "cell_type": "code",
   "execution_count": 28,
   "metadata": {},
   "outputs": [
    {
     "data": {
      "text/plain": [
       "<keras.callbacks.callbacks.History at 0xb50d70fd0>"
      ]
     },
     "execution_count": 28,
     "metadata": {},
     "output_type": "execute_result"
    }
   ],
   "source": [
    "#now to train the model\n",
    "#batch size is the subset size of training csample\n",
    "\n",
    "history = network.fit(features_train,\n",
    "           target_train,\n",
    "            epochs = 2,\n",
    "            verbose = 0,\n",
    "            batch_size = 100,\n",
    "            validation_data = (features_test, target_test)\n",
    "           )\n",
    "\n",
    "history"
   ]
  },
  {
   "cell_type": "code",
   "execution_count": 29,
   "metadata": {},
   "outputs": [
    {
     "name": "stdout",
     "output_type": "stream",
     "text": [
      "model accuracy: 95.96999883651733\n"
     ]
    }
   ],
   "source": [
    "loss, acc = network.evaluate(features_test, target_test, verbose = 0)\n",
    "print(\"model accuracy:\" , acc * 100)"
   ]
  }
 ],
 "metadata": {
  "kernelspec": {
   "display_name": "Python 3",
   "language": "python",
   "name": "python3"
  },
  "language_info": {
   "codemirror_mode": {
    "name": "ipython",
    "version": 3
   },
   "file_extension": ".py",
   "mimetype": "text/x-python",
   "name": "python",
   "nbconvert_exporter": "python",
   "pygments_lexer": "ipython3",
   "version": "3.7.5"
  }
 },
 "nbformat": 4,
 "nbformat_minor": 2
}
